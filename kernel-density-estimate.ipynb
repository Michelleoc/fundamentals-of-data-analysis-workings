{
 "cells": [
  {
   "cell_type": "markdown",
   "id": "c1a095ad",
   "metadata": {},
   "source": [
    "# Kernel Density Estimate  \n",
    "\n",
    "***"
   ]
  },
  {
   "cell_type": "code",
   "execution_count": 2,
   "id": "864532ac",
   "metadata": {},
   "outputs": [],
   "source": [
    "# Numerical arrays.\n",
    "import numpy as np\n",
    "\n",
    "# Plotting.\n",
    "import matplotlib.pyplot as plt\n",
    "\n",
    "# Stats.\n",
    "import scipy.stats as stats\n",
    "\n",
    "# Data frames.\n",
    "import pandas as pd\n",
    "\n",
    "# Statistical plots.\n",
    "import seaborn as sns"
   ]
  },
  {
   "cell_type": "code",
   "execution_count": 3,
   "id": "a3d58d58",
   "metadata": {},
   "outputs": [],
   "source": [
    "# Change the plot style.\n",
    "plt.style.use('fivethirtyeight')\n",
    "\n",
    "# Change default plot size.\n",
    "plt.rcParams[\"figure.figsize\"] = (18, 10)"
   ]
  },
  {
   "cell_type": "markdown",
   "id": "dd62c203",
   "metadata": {},
   "source": [
    "<br>\n",
    "\n",
    "### PDF : Probability Density Function  \n",
    "\n",
    "***"
   ]
  },
  {
   "cell_type": "code",
   "execution_count": null,
   "id": "33f260d3",
   "metadata": {},
   "outputs": [],
   "source": [
    "# Normal distribution.\n",
    "def normalpdf(x, mu=0.0, sigma=1.0):\n",
    "    \"\"\"Calculates the PDF of a normal distrubtion.\"\"\"\n",
    "    numer = np.exp(-0.5 * np.square((x - mu) / sigma))\n",
    "    denom = sigma * np.sqrt(2.0 * np.pi)\n",
    "    return (numer / denom)"
   ]
  }
 ],
 "metadata": {
  "kernelspec": {
   "display_name": "Python 3",
   "language": "python",
   "name": "python3"
  },
  "language_info": {
   "codemirror_mode": {
    "name": "ipython",
    "version": 3
   },
   "file_extension": ".py",
   "mimetype": "text/x-python",
   "name": "python",
   "nbconvert_exporter": "python",
   "pygments_lexer": "ipython3",
   "version": "3.8.8"
  }
 },
 "nbformat": 4,
 "nbformat_minor": 5
}
