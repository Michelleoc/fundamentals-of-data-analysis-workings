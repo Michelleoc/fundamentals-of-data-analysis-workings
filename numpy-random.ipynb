{
 "cells": [
  {
   "cell_type": "markdown",
   "id": "2d1f91a3-0a99-4950-b014-ba35853369a2",
   "metadata": {},
   "source": [
    "# The Numpy Random Package\n",
    "# Author : Michelle O'Connor\n",
    "\n",
    "\n",
    "[Official documentation](https://numpy.org/doc/stable/reference/random/index.html)\n",
    "\n",
    "\n",
    "***"
   ]
  },
  {
   "cell_type": "markdown",
   "id": "d2ca3f2b-7ff6-4d4b-893c-bde27a4e6b8f",
   "metadata": {},
   "source": [
    "import numpy as np\n",
    "\n",
    "import matplotlib.pyplot as plt"
   ]
  },
  {
   "cell_type": "markdown",
   "id": "6db718d1-20e7-4e4c-91db-248333fe680a",
   "metadata": {},
   "source": [
    "Seeding is important in random number generation"
   ]
  },
  {
   "cell_type": "markdown",
   "id": "af960be7-2a15-4c53-b1d9-fc60ab909040",
   "metadata": {},
   "source": [
    "<br>\n",
    "\n",
    "## numpy.randon.normal\n",
    "\n",
    "https://numpy.org/doc/stable/reference/random/generated/numpy.random.normal.html\n",
    "    \n",
    "***"
   ]
  },
  {
   "cell_type": "code",
   "execution_count": 1,
   "id": "a577694b",
   "metadata": {},
   "outputs": [],
   "source": [
    "import numpy as np\n",
    "\n",
    "import matplotlib.pyplot as plt"
   ]
  },
  {
   "cell_type": "code",
   "execution_count": 2,
   "id": "25aecf98",
   "metadata": {},
   "outputs": [],
   "source": [
    "# Change default style sheet\n",
    "\n",
    "plt.style.use('fivethirtyeight')\n",
    "\n",
    "# Change the default figure size\n",
    "\n",
    "plt.rcParams['figure.figsize'] = [10, 5]"
   ]
  },
  {
   "cell_type": "code",
   "execution_count": 3,
   "id": "527a1c6d-4724-4bb9-9150-90d17a5768e4",
   "metadata": {},
   "outputs": [],
   "source": [
    "mu, sigma = 0, 0.1 # mean and standard deviation\n",
    "s = np.random.normal(mu, sigma, 1000)"
   ]
  },
  {
   "cell_type": "code",
   "execution_count": 4,
   "id": "e30f9271",
   "metadata": {},
   "outputs": [
    {
     "data": {
      "text/plain": [
       "array([-0.03397014,  0.05496327, -0.04305252, -0.03340326,  0.02983186,\n",
       "        0.00965723, -0.00903547, -0.09270469,  0.02575013,  0.08486969])"
      ]
     },
     "execution_count": 4,
     "metadata": {},
     "output_type": "execute_result"
    }
   ],
   "source": [
    "# Look at a first x of the 1000 results\n",
    "s[:10]"
   ]
  },
  {
   "cell_type": "code",
   "execution_count": 5,
   "id": "7fdd9283-7c7d-4985-89aa-428d5903253b",
   "metadata": {},
   "outputs": [
    {
     "data": {
      "text/plain": [
       "5.40163059446826e-05"
      ]
     },
     "execution_count": 5,
     "metadata": {},
     "output_type": "execute_result"
    }
   ],
   "source": [
    "abs(mu - np.mean(s))"
   ]
  },
  {
   "cell_type": "code",
   "execution_count": 6,
   "id": "172fe33e-5c00-48f3-851b-2df7ad415249",
   "metadata": {},
   "outputs": [
    {
     "data": {
      "text/plain": [
       "0.0027661182144443214"
      ]
     },
     "execution_count": 6,
     "metadata": {},
     "output_type": "execute_result"
    }
   ],
   "source": [
    "abs(sigma - np.std(s, ddof=1))"
   ]
  },
  {
   "cell_type": "code",
   "execution_count": 7,
   "id": "2f0a734e-44d1-4c64-a166-6588c41cad16",
   "metadata": {
    "scrolled": true
   },
   "outputs": [
    {
     "data": {
      "image/png": "[encoded data removed]",
      "text/plain": [
       "<Figure size 720x360 with 1 Axes>"
      ]
     },
     "metadata": {},
     "output_type": "display_data"
    }
   ],
   "source": [
    "count, bins, ignored = plt.hist(s, 30, density=True)\n",
    "f = 1/(sigma * np.sqrt(2 * np.pi)) * np.exp( - (bins - mu)**2/(2 * sigma**2))\n",
    "plt.plot(bins, f, linewidth=2, color='r')\n",
    "plt.show()"
   ]
  },
  {
   "cell_type": "code",
   "execution_count": null,
   "id": "30a1c50e-e56b-4f96-b068-8db62faea1a6",
   "metadata": {},
   "outputs": [],
   "source": []
  },
  {
   "cell_type": "markdown",
   "id": "2bf329f6-ccac-472c-922f-39e443f78b6b",
   "metadata": {},
   "source": [
    "## References \n",
    "\n",
    "- https://www.datacamp.com/community/tutorials/numpy-random"
   ]
  },
  {
   "cell_type": "markdown",
   "id": "b8e61170-3728-4e9c-9b63-b7b09d2f4d66",
   "metadata": {},
   "source": [
    "*** \n",
    "## End"
   ]
  },
  {
   "cell_type": "code",
   "execution_count": null,
   "id": "9c94eb0d-b463-4783-b510-fbc77c4bea7f",
   "metadata": {},
   "outputs": [],
   "source": []
  }
 ],
 "metadata": {
  "kernelspec": {
   "display_name": "Python 3",
   "language": "python",
   "name": "python3"
  },
  "language_info": {
   "codemirror_mode": {
    "name": "ipython",
    "version": 3
   },
   "file_extension": ".py",
   "mimetype": "text/x-python",
   "name": "python",
   "nbconvert_exporter": "python",
   "pygments_lexer": "ipython3",
   "version": "3.8.8"
  }
 },
 "nbformat": 4,
 "nbformat_minor": 5
}
