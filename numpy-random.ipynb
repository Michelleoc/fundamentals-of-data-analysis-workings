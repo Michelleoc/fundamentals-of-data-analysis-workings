{
 "cells": [
  {
   "cell_type": "markdown",
   "id": "2d1f91a3-0a99-4950-b014-ba35853369a2",
   "metadata": {},
   "source": [
    "# The Numpy Random Package\n",
    "# Author : Michelle O'Connor\n",
    "\n",
    "\n",
    "[Official documentation](https://numpy.org/doc/stable/reference/random/index.html)\n",
    "\n",
    "\n",
    "***"
   ]
  },
  {
   "cell_type": "markdown",
   "id": "d2ca3f2b-7ff6-4d4b-893c-bde27a4e6b8f",
   "metadata": {},
   "source": [
    "import numpy as np\n",
    "\n",
    "import matplotlib.pyplot as plt"
   ]
  },
  {
   "cell_type": "markdown",
   "id": "6db718d1-20e7-4e4c-91db-248333fe680a",
   "metadata": {},
   "source": [
    "Seeding is important in random number generation"
   ]
  },
  {
   "cell_type": "markdown",
   "id": "af960be7-2a15-4c53-b1d9-fc60ab909040",
   "metadata": {},
   "source": [
    "<br>\n",
    "\n",
    "## numpy.randon.normal\n",
    "\n",
    "https://numpy.org/doc/stable/reference/random/generated/numpy.random.normal.html\n",
    "    \n",
    "***"
   ]
  },
  {
   "cell_type": "code",
   "execution_count": 1,
   "id": "a577694b",
   "metadata": {},
   "outputs": [],
   "source": [
    "import numpy as np\n",
    "\n",
    "import matplotlib.pyplot as plt"
   ]
  },
  {
   "cell_type": "code",
   "execution_count": 2,
   "id": "25aecf98",
   "metadata": {},
   "outputs": [],
   "source": [
    "# Change default style sheet\n",
    "\n",
    "plt.style.use('fivethirtyeight')\n",
    "\n",
    "# Change the default figure size\n",
    "\n",
    "plt.rcParams['figure.figsize'] = [10, 5]"
   ]
  },
  {
   "cell_type": "code",
   "execution_count": 3,
   "id": "527a1c6d-4724-4bb9-9150-90d17a5768e4",
   "metadata": {},
   "outputs": [],
   "source": [
    "mu, sigma = 0, 0.1 # mean and standard deviation\n",
    "s = np.random.normal(mu, sigma, 1000)"
   ]
  },
  {
   "cell_type": "code",
   "execution_count": 4,
   "id": "e30f9271",
   "metadata": {},
   "outputs": [
    {
     "data": {
      "text/plain": [
       "array([-0.0886065 , -0.02318462,  0.11234248, -0.09770529,  0.13204523,\n",
       "        0.0783668 ,  0.03458819,  0.10105438,  0.00506615,  0.07081519])"
      ]
     },
     "execution_count": 4,
     "metadata": {},
     "output_type": "execute_result"
    }
   ],
   "source": [
    "# Look at a first x of the 1000 results\n",
    "s[:10]"
   ]
  },
  {
   "cell_type": "code",
   "execution_count": 5,
   "id": "7fdd9283-7c7d-4985-89aa-428d5903253b",
   "metadata": {},
   "outputs": [
    {
     "data": {
      "text/plain": [
       "0.0003346397761792281"
      ]
     },
     "execution_count": 5,
     "metadata": {},
     "output_type": "execute_result"
    }
   ],
   "source": [
    "abs(mu - np.mean(s))"
   ]
  },
  {
   "cell_type": "code",
   "execution_count": 6,
   "id": "172fe33e-5c00-48f3-851b-2df7ad415249",
   "metadata": {},
   "outputs": [
    {
     "data": {
      "text/plain": [
       "0.0006834316808918273"
      ]
     },
     "execution_count": 6,
     "metadata": {},
     "output_type": "execute_result"
    }
   ],
   "source": [
    "abs(sigma - np.std(s, ddof=1))"
   ]
  },
  {
   "cell_type": "code",
   "execution_count": 7,
   "id": "2f0a734e-44d1-4c64-a166-6588c41cad16",
   "metadata": {
    "scrolled": true
   },
   "outputs": [
    {
     "data": {
      "image/png": "[encoded data removed]",
      "text/plain": [
       "<Figure size 720x360 with 1 Axes>"
      ]
     },
     "metadata": {},
     "output_type": "display_data"
    }
   ],
   "source": [
    "count, bins, ignored = plt.hist(s, 30, density=True)\n",
    "f = 1/(sigma * np.sqrt(2 * np.pi)) * np.exp( - (bins - mu)**2/(2 * sigma**2))\n",
    "plt.plot(bins, f, linewidth=2, color='r')\n",
    "plt.show()"
   ]
  },
  {
   "cell_type": "markdown",
   "id": "33636e4a",
   "metadata": {},
   "source": [
    "<br>\n",
    "\n",
    "## Rolling dice\n",
    "\n",
    "***"
   ]
  },
  {
   "cell_type": "markdown",
   "id": "24e2a324",
   "metadata": {},
   "source": [
    "Roll a single dice\n",
    "\n",
    "https://numpy.org/doc/stable/reference/random/generated/numpy.random.randint.html"
   ]
  },
  {
   "cell_type": "code",
   "execution_count": 10,
   "id": "5f6f5391",
   "metadata": {},
   "outputs": [
    {
     "data": {
      "text/plain": [
       "1"
      ]
     },
     "execution_count": 10,
     "metadata": {},
     "output_type": "execute_result"
    }
   ],
   "source": [
    "# Pick a random integer between 1 (inclusive) and 7 (exclusive)\n",
    "np.random.randint(1, 7)"
   ]
  },
  {
   "cell_type": "code",
   "execution_count": 15,
   "id": "5647037f",
   "metadata": {},
   "outputs": [],
   "source": [
    "runs =1000"
   ]
  },
  {
   "cell_type": "code",
   "execution_count": 16,
   "id": "ee1f9269",
   "metadata": {},
   "outputs": [],
   "source": [
    "# Pick many random integer between 1s (inclusive) and 7 (exclusive)\n",
    "dice = np.random.randint(1, 7, runs)"
   ]
  },
  {
   "cell_type": "code",
   "execution_count": 12,
   "id": "4c38a470",
   "metadata": {},
   "outputs": [
    {
     "name": "stdout",
     "output_type": "stream",
     "text": [
      "[6 6 2 4 5 4 1 4 6 3 1 5 3 2 6 1 5 5 4 4 6 2 3 6 6 2 6 2 4 6 6 6 4 4 3 3 6\n",
      " 1 1 1 4 3 6 6 3 3 1 6 3 3 4 4 5 5 3 4 5 3 5 4 5 6 6 1 5 2 3 4 4 2 2 2 3 6\n",
      " 6 2 4 2 4 6 2 3 2 3 5 5 1 2 6 2 1 6 2 2 5 6 3 4 2 4 4 3 3 4 2 2 4 6 1 3 2\n",
      " 3 1 2 4 4 4 2 2 5 4 1 2 4 6 2 4 1 3 3 6 2 2 4 2 1 1 2 5 1 1 2 2 3 4 5 1 5\n",
      " 2 3 6 1 5 5 2 2 2 1 4 6 2 1 4 1 2 4 6 3 4 5 3 5 3 4 2 2 5 5 2 3 4 5 4 1 3\n",
      " 2 6 6 5 3 1 3 1 5 5 3 5 1 1 6 1 4 3 3 6 2 6 4 5 2 5 4 5 5 2 6 5 6 6 1 4 5\n",
      " 6 4 2 5 4 6 4 4 4 2 4 1 2 5 6 1 6 1 2 3 2 3 6 6 4 4 3 5 2 5 3 5 6 1 2 3 2\n",
      " 5 3 2 6 2 2 3 4 4 6 3 6 6 4 3 2 4 6 4 4 2 1 6 4 1 2 1 5 4 2 2 4 5 1 1 5 4\n",
      " 5 5 2 1 6 5 5 3 5 4 3 2 6 3 5 3 2 1 3 6 2 6 4 2 1 5 2 2 4 3 1 4 6 4 2 4 1\n",
      " 4 4 5 6 1 4 6 4 2 1 6 3 2 5 2 6 1 3 1 4 3 6 6 1 2 2 2 3 1 5 2 5 3 4 6 1 6\n",
      " 6 1 5 3 4 3 6 1 3 5 2 3 3 5 1 5 5 3 1 3 1 5 4 4 5 6 2 6 3 5 5 2 5 5 2 3 2\n",
      " 3 5 3 4 6 3 2 3 5 4 3 4 5 2 4 2 2 3 4 5 4 5 4 4 3 3 1 1 6 2 1 6 6 5 2 6 3\n",
      " 3 3 2 5 5 1 3 5 6 3 4 6 2 5 1 4 5 2 5 3 6 6 1 1 6 4 6 3 1 1 2 6 4 2 6 4 1\n",
      " 3 5 6 5 3 5 4 1 1 5 4 6 5 6 2 2 6 2 4 5 4 6 1 3 2 4 6 4 2 1 6 6 6 4 3 1 6\n",
      " 4 5 4 4 3 1 5 2 1 2 2 1 1 4 6 4 3 6 1 1 2 5 3 2 1 1 2 1 2 6 6 2 1 4 4 2 5\n",
      " 2 2 5 1 1 2 5 4 1 4 3 4 6 3 1 1 5 5 2 6 5 3 6 2 2 6 1 5 6 1 2 5 6 4 3 2 5\n",
      " 4 3 6 3 1 1 1 6 5 5 3 2 4 4 3 6 1 3 5 3 1 4 4 6 5 2 6 4 2 6 5 2 4 2 2 4 3\n",
      " 2 3 5 2 2 2 1 6 4 5 1 6 1 6 6 6 3 3 2 2 3 2 5 1 1 3 4 4 2 4 5 4 2 4 5 1 5\n",
      " 5 1 4 5 3 4 6 5 6 3 2 5 1 1 4 2 5 6 3 5 1 6 5 1 4 5 5 3 3 2 4 5 4 3 6 1 5\n",
      " 6 4 2 2 2 2 6 1 4 2 2 1 4 1 4 5 4 5 2 6 5 3 3 1 6 6 2 5 4 4 2 1 4 4 5 6 5\n",
      " 6 5 1 6 4 4 1 4 5 1 4 1 2 4 1 4 6 5 4 4 1 2 2 4 2 1 6 3 4 4 2 4 5 3 5 4 3\n",
      " 3 6 3 3 4 4 1 6 4 1 5 2 3 6 1 2 2 5 5 5 2 4 5 6 2 4 6 2 1 5 5 4 6 5 1 1 3\n",
      " 6 4 5 1 4 2 5 3 1 1 2 1 4 3 2 6 6 6 6 2 5 2 3 2 3 5 6 5 6 4 6 2 6 2 3 3 4\n",
      " 1 3 3 4 1 1 1 5 1 5 5 5 1 1 2 4 2 5 3 1 5 3 3 4 2 1 5 1 5 1 3 5 6 5 1 1 3\n",
      " 1 2 4 1 2 2 4 2 3 2 6 6 2 2 4 1 6 6 3 4 2 1 5 4 3 5 1 5 1 5 5 6 4 1 4 5 3\n",
      " 5 6 5 2 6 2 2 3 5 4 4 4 2 5 5 2 6 1 1 2 1 4 6 3 3 3 5 6 2 1 6 3 4 6 6 2 2\n",
      " 5 5 6 6 5 1 3 6 6 1 1 2 3 1 5 1 5 4 6 2 4 2 3 5 1 4 1 3 1 3 4 2 2 6 3 6 1\n",
      " 2]\n"
     ]
    }
   ],
   "source": [
    "# See the values\n",
    "print (dice)"
   ]
  },
  {
   "cell_type": "markdown",
   "id": "683593d0",
   "metadata": {},
   "source": [
    "Plot the dice rolls\n",
    "\n",
    "https://numpy.org/doc/stable/reference/generated/numpy.unique.html"
   ]
  },
  {
   "cell_type": "code",
   "execution_count": 18,
   "id": "ad120655",
   "metadata": {},
   "outputs": [
    {
     "data": {
      "text/plain": [
       "(array([1, 2, 3, 4, 5, 6]), array([157, 156, 164, 169, 174, 180], dtype=int64))"
      ]
     },
     "execution_count": 18,
     "metadata": {},
     "output_type": "execute_result"
    }
   ],
   "source": [
    "# Count the  number of time each face appears\n",
    "faces, counts =np.unique(dice, return_counts=True)\n",
    "faces, counts"
   ]
  },
  {
   "cell_type": "code",
   "execution_count": 20,
   "id": "9b5564b1",
   "metadata": {},
   "outputs": [
    {
     "data": {
      "image/png": "[encoded data removed]",
      "text/plain": [
       "<Figure size 720x360 with 1 Axes>"
      ]
     },
     "metadata": {},
     "output_type": "display_data"
    }
   ],
   "source": [
    "# Create a new plot.\n",
    "fig, ax = plt.subplots()\n",
    "# Bar chart.\n",
    "# barh = bar chart horizontal\n",
    "ax.barh(faces, counts)\n",
    "# Set axis labels.\n",
    "ax.set_ylabel('Face')\n",
    "ax.set_xlabel('Count');"
   ]
  },
  {
   "cell_type": "markdown",
   "id": "dccd01a6",
   "metadata": {},
   "source": [
    "<br>\n",
    "\n",
    "## Roll more than one dice\n",
    "\n",
    "***"
   ]
  },
  {
   "cell_type": "code",
   "execution_count": 22,
   "id": "2fc7cacf",
   "metadata": {},
   "outputs": [
    {
     "data": {
      "text/plain": [
       "array([[5, 5],\n",
       "       [6, 6],\n",
       "       [4, 1],\n",
       "       ...,\n",
       "       [3, 4],\n",
       "       [5, 2],\n",
       "       [3, 3]])"
      ]
     },
     "execution_count": 22,
     "metadata": {},
     "output_type": "execute_result"
    }
   ],
   "source": [
    "# The number of dice to roll in each turn.\n",
    "numberdice = 2\n",
    "# The number of turns.\n",
    "numberturns = 10000\n",
    "# Roll the dice.\n",
    "dice = np.random.randint(1, 7, (numberturns, numberdice))\n",
    "# Have a look.\n",
    "dice"
   ]
  },
  {
   "cell_type": "code",
   "execution_count": 23,
   "id": "a889d444",
   "metadata": {},
   "outputs": [
    {
     "data": {
      "text/plain": [
       "array([10, 12,  5, ...,  7,  7,  6])"
      ]
     },
     "execution_count": 23,
     "metadata": {},
     "output_type": "execute_result"
    }
   ],
   "source": [
    "# Sum the faces of the dice.\n",
    "totals = np.sum(dice, axis=1)\n",
    "# Have a look.\n",
    "totals"
   ]
  },
  {
   "cell_type": "code",
   "execution_count": 24,
   "id": "1bd9c1af",
   "metadata": {},
   "outputs": [
    {
     "data": {
      "text/plain": [
       "(array([ 2,  3,  4,  5,  6,  7,  8,  9, 10, 11, 12]),\n",
       " array([ 311,  550,  840, 1097, 1350, 1712, 1433, 1104,  799,  563,  241],\n",
       "       dtype=int64))"
      ]
     },
     "execution_count": 24,
     "metadata": {},
     "output_type": "execute_result"
    }
   ],
   "source": [
    "# Count the number of times each face appears.\n",
    "faces, counts = np.unique(totals, return_counts=True)\n",
    "faces, counts"
   ]
  },
  {
   "cell_type": "code",
   "execution_count": 25,
   "id": "789bd194",
   "metadata": {},
   "outputs": [
    {
     "data": {
      "image/png": "[encoded data removed]",
      "text/plain": [
       "<Figure size 720x360 with 1 Axes>"
      ]
     },
     "metadata": {},
     "output_type": "display_data"
    }
   ],
   "source": [
    "# Create a new plot.\n",
    "fig, ax = plt.subplots()\n",
    "# Bar chart.\n",
    "ax.bar(faces, counts)\n",
    "# Set axis labels.\n",
    "ax.set_ylabel('Face')\n",
    "ax.set_xlabel('Count');"
   ]
  },
  {
   "cell_type": "markdown",
   "id": "b558994a",
   "metadata": {},
   "source": [
    "<br>\n",
    "\n",
    "## Lots of dice\n",
    "\n",
    "***"
   ]
  },
  {
   "cell_type": "code",
   "execution_count": 27,
   "id": "3957ae56",
   "metadata": {},
   "outputs": [
    {
     "data": {
      "image/png": "[encoded data removed]",
      "text/plain": [
       "<Figure size 720x360 with 1 Axes>"
      ]
     },
     "metadata": {},
     "output_type": "display_data"
    }
   ],
   "source": [
    "# The number of dice to roll in each turn.\n",
    "numberdice = 100\n",
    "# The number of turns.\n",
    "numberturns = 100000\n",
    "# Roll the dice.\n",
    "dice = np.random.randint(1, 7, (numberturns, numberdice))\n",
    "# Sum the faces of the dice.\n",
    "totals = np.sum(dice, axis=1)\n",
    "# Count the number of times each face appears.\n",
    "faces, counts = np.unique(totals, return_counts=True)\n",
    "# Create a new plot.\n",
    "fig, ax = plt.subplots()\n",
    "# Bar chart.\n",
    "ax.bar(faces, counts)\n",
    "# Set axis labels.\n",
    "ax.set_ylabel('Face total')\n",
    "ax.set_xlabel('Count');"
   ]
  },
  {
   "cell_type": "code",
   "execution_count": null,
   "id": "029d17bc",
   "metadata": {},
   "outputs": [],
   "source": []
  },
  {
   "cell_type": "code",
   "execution_count": null,
   "id": "696b21f1",
   "metadata": {},
   "outputs": [],
   "source": []
  },
  {
   "cell_type": "code",
   "execution_count": null,
   "id": "e4d05819",
   "metadata": {},
   "outputs": [],
   "source": []
  },
  {
   "cell_type": "markdown",
   "id": "2bf329f6-ccac-472c-922f-39e443f78b6b",
   "metadata": {},
   "source": [
    "## References\n",
    "\n",
    "***\n",
    "\n",
    "- https://www.datacamp.com/community/tutorials/numpy-random"
   ]
  },
  {
   "cell_type": "markdown",
   "id": "b8e61170-3728-4e9c-9b63-b7b09d2f4d66",
   "metadata": {},
   "source": [
    "*** \n",
    "## End"
   ]
  },
  {
   "cell_type": "code",
   "execution_count": null,
   "id": "9c94eb0d-b463-4783-b510-fbc77c4bea7f",
   "metadata": {},
   "outputs": [],
   "source": []
  }
 ],
 "metadata": {
  "kernelspec": {
   "display_name": "Python 3",
   "language": "python",
   "name": "python3"
  },
  "language_info": {
   "codemirror_mode": {
    "name": "ipython",
    "version": 3
   },
   "file_extension": ".py",
   "mimetype": "text/x-python",
   "name": "python",
   "nbconvert_exporter": "python",
   "pygments_lexer": "ipython3",
   "version": "3.8.8"
  }
 },
 "nbformat": 4,
 "nbformat_minor": 5
}
